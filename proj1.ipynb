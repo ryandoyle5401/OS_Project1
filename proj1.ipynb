{
  "nbformat": 4,
  "nbformat_minor": 0,
  "metadata": {
    "colab": {
      "provenance": [],
      "mount_file_id": "1spgC3qber57sVSBirKpeZbnq-Cuc_SUl",
      "authorship_tag": "ABX9TyNWpXMO1UcjcQtIS8yxvijW",
      "include_colab_link": true
    },
    "kernelspec": {
      "name": "python3",
      "display_name": "Python 3"
    },
    "language_info": {
      "name": "python"
    }
  },
  "cells": [
    {
      "cell_type": "markdown",
      "metadata": {
        "id": "view-in-github",
        "colab_type": "text"
      },
      "source": [
        "<a href=\"https://colab.research.google.com/github/ryandoyle5401/OS_Project1/blob/main/proj1.ipynb\" target=\"_parent\"><img src=\"https://colab.research.google.com/assets/colab-badge.svg\" alt=\"Open In Colab\"/></a>"
      ]
    },
    {
      "cell_type": "code",
      "execution_count": 49,
      "metadata": {
        "id": "tvHZ_g06dgKd",
        "outputId": "e70168f7-fe4e-41ac-909f-241addcc34ab",
        "colab": {
          "base_uri": "https://localhost:8080/"
        }
      },
      "outputs": [
        {
          "output_type": "stream",
          "name": "stdout",
          "text": [
            "Overwriting proj1.c\n"
          ]
        }
      ],
      "source": [
        "%%writefile proj1.c\n",
        "#include <stdio.h>\n",
        "#include <stdlib.h>\n",
        "#include <string.h>\n",
        "int main() {\n",
        "\n",
        "// TODO\n",
        "// Create a child process for each file\n",
        "// Read all files, keeping track of how often a specific word appears\n",
        "// Have functionality to measure time, cpu usage, memory usage (use getrusage)\n",
        "// Note: first run this using only the 7 child processes. Then run with each\n",
        "//       process creating at least 2 threads to read the file at different\n",
        "//       points in parallel.\n",
        "// For each process, create at least two threads for parallel word counting.\n",
        "// Use IPC (pipes or shared memory) so the child can communicate their word count\n",
        "//       to the parent process.\n",
        "\n",
        "  // Keeps track of how often a specific word appears\n",
        "  int counter = 0;\n",
        "\n",
        "  // Store paths to all 7 files\n",
        "  char *file_paths[] = {\"/content/drive/MyDrive/Colab Notebooks/txtfiles/bib\",\n",
        "    \"/content/drive/MyDrive/Colab Notebooks/txtfiles/paper1\", \"/content/drive/MyDrive/Colab Notebooks/txtfiles/paper2\",\n",
        "    \"/content/drive/MyDrive/Colab Notebooks/txtfiles/progc\", \"/content/drive/MyDrive/Colab Notebooks/txtfiles/progl\",\n",
        "    \"/content/drive/MyDrive/Colab Notebooks/txtfiles/progp\", \"/content/drive/MyDrive/Colab Notebooks/txtfiles/trans\"};\n",
        "\n",
        "  // Total number of child processes\n",
        "  int NUM_OF_PROCESSES = 7;\n",
        "  pid_t pid[7];\n",
        "\n",
        "  // Keyword to keep track of\n",
        "  char keyword[] = \"the\";\n",
        "\n",
        "  for (int i = 0; i < NUM_OF_PROCESSES; i++) {\n",
        "    pid[i] = fork();\n",
        "    if (pid[i] == -1) {\n",
        "      perror(\"failed to create child process\");\n",
        "      exit(1);\n",
        "    } else if (pid[i] == 0) {\n",
        "      // Child process\n",
        "      FILE *file_ptr;\n",
        "      file_ptr = fopen(file_paths[i], \"r\");\n",
        "\n",
        "      // Get file size\n",
        "      fseek(file_ptr, 0, SEEK_END);\n",
        "      long file_size = ftell(file_ptr);\n",
        "      rewind(file_ptr);\n",
        "\n",
        "      if (file_ptr == NULL) {\n",
        "        printf(\"file can't be opened.\\n\");\n",
        "        return EXIT_FAILURE;\n",
        "      }\n",
        "\n",
        "      //int counter = 0;\n",
        "      char str[256];\n",
        "      while (fgets(str, file_size, file_ptr) != NULL) {\n",
        "        // This prints all strings in the file\n",
        "        //printf(\"%s\", s);\n",
        "        if (strstr(str, keyword) != NULL) {\n",
        "          counter++;\n",
        "        }\n",
        "      }\n",
        "      fclose(file_ptr);\n",
        "    }\n",
        "  }\n",
        "\n",
        "  int status;\n",
        "  pid_t wpid;\n",
        "  for (int i = 0; i < NUM_OF_PROCESSES; i++) {\n",
        "    wpid = wait(&status);\n",
        "  }\n",
        "\n",
        "  printf(\"The keyword %s appears %d times\", keyword, counter);\n",
        "  return EXIT_SUCCESS;\n",
        "}"
      ]
    },
    {
      "cell_type": "code",
      "source": [
        "%%shell\n",
        "gcc proj1.c -o proj1\n",
        "./proj1"
      ],
      "metadata": {
        "colab": {
          "base_uri": "https://localhost:8080/"
        },
        "id": "VtUoYoXPX62r",
        "outputId": "96db046f-993f-41f9-84b5-1f6d084294b8"
      },
      "execution_count": 50,
      "outputs": [
        {
          "output_type": "stream",
          "name": "stdout",
          "text": [
            "\u001b[01m\u001b[Kproj1.c:\u001b[m\u001b[K In function ‘\u001b[01m\u001b[Kmain\u001b[m\u001b[K’:\n",
            "\u001b[01m\u001b[Kproj1.c:34:14:\u001b[m\u001b[K \u001b[01;35m\u001b[Kwarning: \u001b[m\u001b[Kimplicit declaration of function ‘\u001b[01m\u001b[Kfork\u001b[m\u001b[K’ [\u001b[01;35m\u001b[K\u001b]8;;https://gcc.gnu.org/onlinedocs/gcc/Warning-Options.html#index-Wimplicit-function-declaration\u0007-Wimplicit-function-declaration\u001b]8;;\u0007\u001b[m\u001b[K]\n",
            "   34 |     pid[i] = \u001b[01;35m\u001b[Kfork\u001b[m\u001b[K();\n",
            "      |              \u001b[01;35m\u001b[K^~~~\u001b[m\u001b[K\n",
            "\u001b[01m\u001b[Kproj1.c:69:12:\u001b[m\u001b[K \u001b[01;35m\u001b[Kwarning: \u001b[m\u001b[Kimplicit declaration of function ‘\u001b[01m\u001b[Kwait\u001b[m\u001b[K’ [\u001b[01;35m\u001b[K\u001b]8;;https://gcc.gnu.org/onlinedocs/gcc/Warning-Options.html#index-Wimplicit-function-declaration\u0007-Wimplicit-function-declaration\u001b]8;;\u0007\u001b[m\u001b[K]\n",
            "   69 |     wpid = \u001b[01;35m\u001b[Kwait\u001b[m\u001b[K(&status);\n",
            "      |            \u001b[01;35m\u001b[K^~~~\u001b[m\u001b[K\n",
            "*** stack smashing detected ***: terminated\n",
            "*** stack smashing detected ***: terminated\n",
            "*** stack smashing detected ***: terminated\n",
            "*** stack smashing detected ***: terminated\n",
            "*** stack smashing detected ***: terminated\n",
            "*** stack smashing detected ***: terminated\n",
            "*** stack smashing detected ***: terminated\n",
            "*** stack smashing detected ***: terminated\n",
            "*** stack smashing detected ***: terminated\n",
            "*** stack smashing detected ***: terminated\n",
            "*** stack smashing detected ***: terminated\n",
            "*** stack smashing detected ***: terminated\n",
            "*** stack smashing detected ***: terminated\n",
            "*** stack smashing detected ***: terminated\n",
            "*** stack smashing detected ***: terminated\n",
            "*** stack smashing detected ***: terminated\n",
            "*** stack smashing detected ***: terminated\n",
            "*** stack smashing detected ***: terminated\n",
            "*** stack smashing detected ***: terminated\n",
            "*** stack smashing detected ***: terminated\n",
            "*** stack smashing detected ***: terminated\n",
            "*** stack smashing detected ***: terminated\n",
            "*** stack smashing detected ***: terminated\n",
            "*** stack smashing detected ***: terminated\n",
            "*** stack smashing detected ***: terminated\n",
            "*** stack smashing detected ***: terminated\n",
            "*** stack smashing detected ***: terminated\n",
            "*** stack smashing detected ***: terminated\n",
            "*** stack smashing detected ***: terminated\n",
            "*** stack smashing detected ***: terminated\n",
            "*** stack smashing detected ***: terminated\n",
            "*** stack smashing detected ***: terminated\n",
            "*** stack smashing detected ***: terminated\n",
            "*** stack smashing detected ***: terminated\n",
            "*** stack smashing detected ***: terminated\n",
            "*** stack smashing detected ***: terminated\n",
            "*** stack smashing detected ***: terminated\n",
            "*** stack smashing detected ***: terminated\n",
            "*** stack smashing detected ***: terminated\n",
            "*** stack smashing detected ***: terminated\n",
            "*** stack smashing detected ***: terminated\n",
            "*** stack smashing detected ***: terminated\n",
            "*** stack smashing detected ***: terminated\n",
            "*** stack smashing detected ***: terminated\n",
            "*** stack smashing detected ***: terminated\n",
            "*** stack smashing detected ***: terminated\n",
            "*** stack smashing detected ***: terminated\n",
            "*** stack smashing detected ***: terminated\n",
            "*** stack smashing detected ***: terminated\n",
            "*** stack smashing detected ***: terminated\n",
            "The keyword the appears 1323 timesThe keyword the appears 1020 timesThe keyword the appears 471 timesThe keyword the appears 254 timesThe keyword the appears 1126 timesThe keyword the appears 1206 timesThe keyword the appears 786 timesThe keyword the appears 940 timesThe keyword the appears 1509 timesThe keyword the appears 483 timesThe keyword the appears 365 timesThe keyword the appears 866 timesThe keyword the appears 668 timesThe keyword the appears 297 timesThe keyword the appears 600 timesThe keyword the appears 285 timesThe keyword the appears 854 timesThe keyword the appears 451 timesThe keyword the appears 1403 timesThe keyword the appears 403 timesThe keyword the appears 217 timesThe keyword the appears 148 timesThe keyword the appears 637 timesThe keyword the appears 68 timesThe keyword the appears 680 timesThe keyword the appears 1008 timesThe keyword the appears 791 times*** stack smashing detected ***: terminated\n",
            "The keyword the appears 80 times*** stack smashing detected ***: terminated\n",
            "*** stack smashing detected ***: terminated\n",
            "*** stack smashing detected ***: terminated\n",
            "*** stack smashing detected ***: terminated\n",
            "*** stack smashing detected ***: terminated\n",
            "*** stack smashing detected ***: terminated\n",
            "*** stack smashing detected ***: terminated\n",
            "*** stack smashing detected ***: terminated\n",
            "*** stack smashing detected ***: terminated\n",
            "*** stack smashing detected ***: terminated\n",
            "*** stack smashing detected ***: terminated\n",
            "*** stack smashing detected ***: terminated\n",
            "The keyword the appears 1391 timesThe keyword the appears 1577 timesThe keyword the appears 1360 timesThe keyword the appears 551 timesThe keyword the appears 1174 timesThe keyword the appears 1274 timesThe keyword the appears 334 timesThe keyword the appears 748 timesThe keyword the appears 266 timesThe keyword the appears 1194 timesThe keyword the appears 1057 timesThe keyword the appears 934 timesThe keyword the appears 717 timesThe keyword the appears 989 timesThe keyword the appears 649 timesThe keyword the appears 1471 timesThe keyword the appears 1254 timesThe keyword the appears 1186 timesThe keyword the appears 531 timesThe keyword the appears 1106 timesThe keyword the appears 463 timesThe keyword the appears 977 timesThe keyword the appears 383 timesThe keyword the appears 909 timesThe keyword the appears 1088 timesThe keyword the appears 1589 timesThe keyword the appears 871 timesThe keyword the appears 803 timesThe keyword the appears 723 times*** stack smashing detected ***: terminated\n",
            "The keyword the appears 1657 timesThe keyword the appears 1440 timesThe keyword the appears 1372 timesThe keyword the appears 1292 timesThe keyword the appears 569 timesThe keyword the appears 186 timesThe keyword the appears 0 times"
          ]
        },
        {
          "output_type": "execute_result",
          "data": {
            "text/plain": []
          },
          "metadata": {},
          "execution_count": 50
        }
      ]
    }
  ]
}